{
 "cells": [
  {
   "cell_type": "code",
   "execution_count": 1,
   "metadata": {},
   "outputs": [],
   "source": [
    "\"\"\"\n",
    "Code for defining vulnerability classes.\n",
    "\"\"\"\n",
    "# Copyright 2021 Conservation International\n",
    "\n",
    "import ee\n",
    "import json\n",
    "\n",
    "# The service account email address authorized by your Google contact.\n",
    "# Set up a service account as described in the README.\n",
    "EE_ACCOUNT = 'gef-ldmp-server@gef-ld-toolbox.iam.gserviceaccount.com'\n",
    "\n",
    "# The private key associated with your service account in JSON format.\n",
    "EE_PRIVATE_KEY_FILE = 'D:/Gabriel/CI/TrendsEarth/Git/GeePython_Codes/te_key.json'\n",
    "\n",
    "EE_CREDENTIALS = ee.ServiceAccountCredentials(EE_ACCOUNT, EE_PRIVATE_KEY_FILE)\n",
    "\n",
    "#ee.Initialize(EE_CREDENTIALS)\n",
    "ee.Initialize()"
   ]
  },
  {
   "cell_type": "code",
   "execution_count": 6,
   "metadata": {},
   "outputs": [
    {
     "ename": "SyntaxError",
     "evalue": "invalid syntax (<ipython-input-6-9f2656a8d0e4>, line 19)",
     "output_type": "error",
     "traceback": [
      "\u001b[1;36m  File \u001b[1;32m\"<ipython-input-6-9f2656a8d0e4>\"\u001b[1;36m, line \u001b[1;32m19\u001b[0m\n\u001b[1;33m    .where(dvi_jrc.gt(0.2562235).and(dvi_jrc.lte(0.325556)),  11)\u001b[0m\n\u001b[1;37m    ^\u001b[0m\n\u001b[1;31mSyntaxError\u001b[0m\u001b[1;31m:\u001b[0m invalid syntax\n"
     ]
    }
   ],
   "source": [
    "# Load region of interest\n",
    "region = ee.Geometry(geojson)\n",
    "\n",
    "# Filter region/country of interest\n",
    "# countryName = ee.String('Guyana')\n",
    "# country = ee.FeatureCollection('FAO/GAUL/2015/level0').filter(ee.Filter.eq('ADM0_NAME', countryName))\n",
    "\n",
    "# Load the jrc drought vulnerability image\n",
    "dvi_jrc = ee.Image('users/geflanddegradation/toolbox_datasets/jrc_global_drought_vulnerability_map')\n",
    "#print(dvi_jrc)\n",
    " \n",
    "# break dvi values by thresholds recommended by Gustavo Naumann from jrc\n",
    "# Gustavo Naumann recommended that we use this classification based on quantiles to group the vulnerability classes:\n",
    "# QUANTILE  | 0.00%    | 11.11%  | 22.22%   | 33.33%   | 44.44%   | 55.56%   | 66.67%   | 77.78%   | 88.89%   | 100%\n",
    "# THRESHOLD | 0.2562235| 0.325556| 0.3849101| 0.3926574| 0.4153432| 0.4465307| 0.4718774| 0.5332445| 0.6876299| 0.9999815\n",
    "\n",
    "dvi_jrc_per = ee.Image(-32768).where(dvi_jrc.lte(0.2562235), 0)\n",
    "    .where(dvi_jrc.gt(0.2562235).and(dvi_jrc.lte(0.325556)),  11)\n",
    "    .where(dvi_jrc.gt(0.325556).and(dvi_jrc.lte(0.3849101)),  22)\n",
    "    .where(dvi_jrc.gt(0.3849101).and(dvi_jrc.lte(0.3926574)),  33)\n",
    "    .where(dvi_jrc.gt(0.3926574).and(dvi_jrc.lte(0.4153432)),  44)\n",
    "    .where(dvi_jrc.gt(0.4153432).and(dvi_jrc.lte(0.4465307)),  56)\n",
    "    .where(dvi_jrc.gt(0.4465307).and(dvi_jrc.lte(0.4718774)),  66)\n",
    "    .where(dvi_jrc.gt(0.4718774).and(dvi_jrc.lte(0.5332445)),  78)\n",
    "    .where(dvi_jrc.gt(0.5332445).and(dvi_jrc.lte(0.6876299)),  89)\n",
    "    .where(dvi_jrc.gt(0.6876299).and(dvi_jrc.lte(0.9999815)),  100)\n",
    "    .rename('percentiles')//.clip(country);\n",
    "print(dvi_jrc_per)"
   ]
  }
 ],
 "metadata": {
  "kernelspec": {
   "display_name": "Python 3",
   "language": "python",
   "name": "python3"
  },
  "language_info": {
   "codemirror_mode": {
    "name": "ipython",
    "version": 3
   },
   "file_extension": ".py",
   "mimetype": "text/x-python",
   "name": "python",
   "nbconvert_exporter": "python",
   "pygments_lexer": "ipython3",
   "version": "3.7.4"
  }
 },
 "nbformat": 4,
 "nbformat_minor": 4
}
