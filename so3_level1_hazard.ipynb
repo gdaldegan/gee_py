{
 "cells": [
  {
   "cell_type": "code",
   "execution_count": 3,
   "metadata": {},
   "outputs": [],
   "source": [
    "\"\"\"\n",
    "Code for defining hazard (droughts) classes.\n",
    "\"\"\"\n",
    "# Copyright 2021 Conservation International\n",
    "\n",
    "import ee\n",
    "import json\n",
    "\n",
    "# The service account email address authorized by your Google contact.\n",
    "# Set up a service account as described in the README.\n",
    "EE_ACCOUNT = 'gef-ldmp-server@gef-ld-toolbox.iam.gserviceaccount.com'\n",
    "\n",
    "# The private key associated with your service account in JSON format.\n",
    "EE_PRIVATE_KEY_FILE = 'D:/Gabriel/CI/TrendsEarth/Git/GeePython_Codes/te_key.json'\n",
    "\n",
    "EE_CREDENTIALS = ee.ServiceAccountCredentials(EE_ACCOUNT, EE_PRIVATE_KEY_FILE)\n",
    "\n",
    "#ee.Initialize(EE_CREDENTIALS)\n",
    "ee.Initialize()"
   ]
  },
  {
   "cell_type": "code",
   "execution_count": 7,
   "metadata": {},
   "outputs": [
    {
     "ename": "SyntaxError",
     "evalue": "invalid syntax (<ipython-input-7-d576f14d46ce>, line 25)",
     "output_type": "error",
     "traceback": [
      "\u001b[1;36m  File \u001b[1;32m\"<ipython-input-7-d576f14d46ce>\"\u001b[1;36m, line \u001b[1;32m25\u001b[0m\n\u001b[1;33m    if (spi_lag == 12){spi_gpcc = ee.Image('projects/trends_earth/spi/spi_GPCC_monthly_v2020_1971-2019_monthly_gamma_SPI_lag12')}\u001b[0m\n\u001b[1;37m                      ^\u001b[0m\n\u001b[1;31mSyntaxError\u001b[0m\u001b[1;31m:\u001b[0m invalid syntax\n"
     ]
    }
   ],
   "source": [
    "# Load region of interest\n",
    "region = ee.Geometry(geojson)\n",
    "\n",
    "# Filter region/country of interest\n",
    "# countryName = ee.String('Guyana')\n",
    "# country = ee.FeatureCollection('FAO/GAUL/2015/level0').filter(ee.Filter.eq('ADM0_NAME', countryName))\n",
    "\n",
    "# Set year of interest\n",
    "year = 2019\n",
    "\n",
    "# Set spi lag\n",
    "# spi_lag = 2\n",
    "# spi_lag = 3\n",
    "# spi_lag = 6\n",
    "# spi_lag = 9\n",
    "spi_lag = 12 \n",
    "# spi_lag = 24\n",
    "\n",
    "# Get spi image based on the lag\n",
    "if (spi_lag == 2){spi_gpcc = ee.Image('projects/trends_earth/spi/spi_GPCC_monthly_v2020_1971-2019_monthly_gamma_SPI_lag2')}\n",
    "if (spi_lag == 3){spi_gpcc = ee.Image('projects/trends_earth/spi/spi_GPCC_monthly_v2020_1971-2019_monthly_gamma_SPI_lag3')}\n",
    "if (spi_lag == 6){spi_gpcc = ee.Image('projects/trends_earth/spi/spi_GPCC_monthly_v2020_1971-2019_monthly_gamma_SPI_lag6')}\n",
    "if (spi_lag == 9){spi_gpcc = ee.Image('projects/trends_earth/spi/spi_GPCC_monthly_v2020_1971-2019_monthly_gamma_SPI_lag9')}\n",
    "if (spi_lag == 12){spi_gpcc = ee.Image('projects/trends_earth/spi/spi_GPCC_monthly_v2020_1971-2019_monthly_gamma_SPI_lag12')}\n",
    "if (spi_lag == 24){spi_gpcc = ee.Image('projects/trends_earth/spi/spi_GPCC_monthly_v2020_1971-2019_monthly_gamma_SPI_lag24')}\n",
    "\n",
    "# Select lag bands out of the spi image for the year of interest\n",
    "spi_dec = spi_gpcc.selec('spi_'+year+_'12')\n",
    "\n",
    "# Define drought classes based on spi values\n",
    "# 0 to 999 -> mild drought\n",
    "#-1000 to -1499 -> moderate drought\n",
    "#-1500 to -1.999 -> severe drought\n",
    "#-2000 and less -> extreme drough\n",
    "droughtClass = ee.Image(0)\n",
    "    .where(spi_dec.lte(0).and(spi_dec.gt(-1000)),1)\n",
    "    .where(spi_dec.lte(-1000).and(spi_dec.gt(-1500)), 2)\n",
    "    .where(spi_dec.lte(-1500).and(spi_dec.gt(-2000)), 3)\n",
    "    .where(spi_dec.lte(-2000), 4).rename(['Hazard']).aside(print, 'Hazard').clip(country)\n"
   ]
  }
 ],
 "metadata": {
  "kernelspec": {
   "display_name": "Python 3",
   "language": "python",
   "name": "python3"
  },
  "language_info": {
   "codemirror_mode": {
    "name": "ipython",
    "version": 3
   },
   "file_extension": ".py",
   "mimetype": "text/x-python",
   "name": "python",
   "nbconvert_exporter": "python",
   "pygments_lexer": "ipython3",
   "version": "3.7.4"
  }
 },
 "nbformat": 4,
 "nbformat_minor": 4
}
